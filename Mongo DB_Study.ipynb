{
 "cells": [
  {
   "cell_type": "code",
   "execution_count": 1,
   "id": "6d846ae7",
   "metadata": {},
   "outputs": [
    {
     "name": "stdout",
     "output_type": "stream",
     "text": [
      "Collecting pymongo\n",
      "  Downloading pymongo-4.4.1-cp39-cp39-win_amd64.whl (408 kB)\n",
      "Collecting dnspython<3.0.0,>=1.16.0\n",
      "  Downloading dnspython-2.4.2-py3-none-any.whl (300 kB)\n",
      "Installing collected packages: dnspython, pymongo\n",
      "Successfully installed dnspython-2.4.2 pymongo-4.4.1\n"
     ]
    }
   ],
   "source": [
    "! pip install pymongo"
   ]
  },
  {
   "cell_type": "markdown",
   "id": "52c8acfd",
   "metadata": {},
   "source": [
    "**Setting up connection with MongoDB**"
   ]
  },
  {
   "cell_type": "code",
   "execution_count": 3,
   "id": "8df92104",
   "metadata": {},
   "outputs": [],
   "source": [
    "import pymongo\n",
    "import time"
   ]
  },
  {
   "cell_type": "code",
   "execution_count": 4,
   "id": "9214332d",
   "metadata": {},
   "outputs": [
    {
     "name": "stdout",
     "output_type": "stream",
     "text": [
      "Time elapsed is 0.023524999618530273\n"
     ]
    }
   ],
   "source": [
    "# Setting up timer\n",
    "t00 = time.time() \n",
    "\n",
    "client = pymongo.MongoClient('mongodb://localhost:27017')\n",
    "my_db = client[\"420Project\"]\n",
    "firearms_info = my_db.firearms\n",
    "\n",
    "# closing timer\n",
    "t01 = time.time()\n",
    "print(\"Time elapsed is\",t01-t00)"
   ]
  },
  {
   "cell_type": "code",
   "execution_count": 27,
   "id": "eb03a59e",
   "metadata": {},
   "outputs": [
    {
     "data": {
      "text/plain": [
       "{'_id': ObjectId('64dc77237dee8e6cbc7ea572'),\n",
       " 'month': '2023-07',\n",
       " 'state': 'Alabama',\n",
       " 'permit': 10197,\n",
       " 'permit_recheck': 96,\n",
       " 'handgun': 15324,\n",
       " 'long_gun': 9081,\n",
       " 'other': 1285,\n",
       " 'multiple': 877,\n",
       " 'admin': 0,\n",
       " 'prepawn_handgun': 21,\n",
       " 'prepawn_long_gun': 3,\n",
       " 'prepawn_other': 2,\n",
       " 'redemption_handgun': 2078,\n",
       " 'redemption_long_gun': 788,\n",
       " 'redemption_other': 23,\n",
       " 'returned_handgun': 75,\n",
       " 'returned_long_gun': 0,\n",
       " 'returned_other': 0,\n",
       " 'rentals_handgun': 0,\n",
       " 'rentals_long_gun': 0,\n",
       " 'private_sale_handgun': 32,\n",
       " 'private_sale_long_gun': 21,\n",
       " 'private_sale_other': 7,\n",
       " 'return_to_seller_handgun': 0,\n",
       " 'return_to_seller_long_gun': 0,\n",
       " 'return_to_seller_other': 0,\n",
       " 'totals': 39910}"
      ]
     },
     "execution_count": 27,
     "metadata": {},
     "output_type": "execute_result"
    }
   ],
   "source": [
    "# To check first record in the collection\n",
    "firearms_info.find_one()"
   ]
  },
  {
   "cell_type": "markdown",
   "id": "83beb961",
   "metadata": {},
   "source": [
    "**First query: To find state with maximum no. of background checks initiated for handgun in year 2022**"
   ]
  },
  {
   "cell_type": "code",
   "execution_count": 5,
   "id": "e7b0dd88",
   "metadata": {},
   "outputs": [
    {
     "name": "stdout",
     "output_type": "stream",
     "text": [
      "{'_id': 'New Jersey', 'TotalHandguns': 101828}\n",
      "{'_id': 'Virginia', 'TotalHandguns': 323883}\n",
      "{'_id': 'Alabama', 'TotalHandguns': 250476}\n",
      "{'_id': 'Ohio', 'TotalHandguns': 317595}\n",
      "{'_id': 'Rhode Island', 'TotalHandguns': 15100}\n",
      "{'_id': 'Missouri', 'TotalHandguns': 255869}\n",
      "{'_id': 'Hawaii', 'TotalHandguns': 21}\n",
      "{'_id': 'South Carolina', 'TotalHandguns': 151454}\n",
      "{'_id': 'Washington', 'TotalHandguns': 288839}\n",
      "{'_id': 'Mississippi', 'TotalHandguns': 121245}\n",
      "{'_id': 'Arkansas', 'TotalHandguns': 91701}\n",
      "{'_id': 'Indiana', 'TotalHandguns': 286140}\n",
      "{'_id': 'Alaska', 'TotalHandguns': 38511}\n",
      "{'_id': 'Kentucky', 'TotalHandguns': 139959}\n",
      "{'_id': 'New Mexico', 'TotalHandguns': 87625}\n",
      "{'_id': 'Puerto Rico', 'TotalHandguns': 69829}\n",
      "{'_id': 'Maryland', 'TotalHandguns': 118822}\n",
      "{'_id': 'Connecticut', 'TotalHandguns': 76208}\n",
      "{'_id': 'Idaho', 'TotalHandguns': 77504}\n",
      "{'_id': 'New York', 'TotalHandguns': 131190}\n",
      "{'_id': 'Arizona', 'TotalHandguns': 241552}\n",
      "{'_id': 'North Dakota', 'TotalHandguns': 23577}\n",
      "{'_id': 'Vermont', 'TotalHandguns': 20812}\n",
      "{'_id': 'Virgin Islands', 'TotalHandguns': 536}\n",
      "{'_id': 'Tennessee', 'TotalHandguns': 365606}\n",
      "{'_id': 'Georgia', 'TotalHandguns': 249122}\n",
      "{'_id': 'Oklahoma', 'TotalHandguns': 163660}\n",
      "{'_id': 'California', 'TotalHandguns': 572700}\n",
      "{'_id': 'Illinois', 'TotalHandguns': 282847}\n",
      "{'_id': 'Guam', 'TotalHandguns': 2320}\n",
      "{'_id': 'Colorado', 'TotalHandguns': 245781}\n",
      "{'_id': 'Iowa', 'TotalHandguns': 34962}\n",
      "{'_id': 'Kansas', 'TotalHandguns': 83979}\n",
      "{'_id': 'Maine', 'TotalHandguns': 48871}\n",
      "{'_id': 'Louisiana', 'TotalHandguns': 166940}\n",
      "{'_id': 'West Virginia', 'TotalHandguns': 68364}\n",
      "{'_id': 'Oregon', 'TotalHandguns': 272668}\n",
      "{'_id': 'Utah', 'TotalHandguns': 71740}\n",
      "{'_id': 'Nebraska', 'TotalHandguns': 2225}\n",
      "{'_id': 'Nevada', 'TotalHandguns': 73171}\n",
      "{'_id': 'Delaware', 'TotalHandguns': 29282}\n",
      "{'_id': 'Wisconsin', 'TotalHandguns': 230904}\n",
      "{'_id': 'Mariana Islands', 'TotalHandguns': 175}\n",
      "{'_id': 'Florida', 'TotalHandguns': 773019}\n",
      "{'_id': 'Pennsylvania', 'TotalHandguns': 566492}\n",
      "{'_id': 'South Dakota', 'TotalHandguns': 28982}\n",
      "{'_id': 'New Hampshire', 'TotalHandguns': 76303}\n",
      "{'_id': 'Wyoming', 'TotalHandguns': 29666}\n",
      "{'_id': 'District of Columbia', 'TotalHandguns': 5489}\n",
      "{'_id': 'Massachusetts', 'TotalHandguns': 67337}\n",
      "{'_id': 'Minnesota', 'TotalHandguns': 139318}\n",
      "{'_id': 'Montana', 'TotalHandguns': 54286}\n",
      "{'_id': 'North Carolina', 'TotalHandguns': 30879}\n",
      "{'_id': 'Texas', 'TotalHandguns': 781676}\n",
      "{'_id': 'Michigan', 'TotalHandguns': 271179}\n",
      "Time elapsed is 0.040044546127319336\n"
     ]
    }
   ],
   "source": [
    "# Setting up timer\n",
    "t11 = time.time()\n",
    "\n",
    "months_2022 = ['2022-01','2022-02','2022-03','2022-04','2022-05','2022-06','2022-07','2022-08','2022-09','2022-10','2022-11','2022-12']\n",
    "\n",
    "agg_result1 = firearms_info.aggregate([\n",
    "    {\"$match\": {'month':{'$in':months_2022}}},\n",
    "    {\n",
    "        \"$group\" :{\n",
    "            \"_id\":'$state',\n",
    "            \"TotalHandguns\":{\n",
    "                \"$sum\":{ \"$add\": [\"$handgun\",\"$prepawn_handgun\",\"$private_sale_handgun\",\"$returned_handgun\",\"$rentals_handgun\",\"$return_to_seller_handgun\"]}\n",
    "            }    \n",
    "        }   \n",
    "    }   \n",
    "    ])\n",
    "\n",
    "for record in agg_result1:\n",
    "    print(record)\n",
    "# closing timer\n",
    "t12 = time.time()\n",
    "print(\"Time elapsed is\",t12-t11)"
   ]
  },
  {
   "cell_type": "markdown",
   "id": "203fd01f",
   "metadata": {},
   "source": [
    "**Second query: Under redemption, Which category has been requested for maximum number of background checks across 5 years**"
   ]
  },
  {
   "cell_type": "code",
   "execution_count": 6,
   "id": "426fafa6",
   "metadata": {},
   "outputs": [
    {
     "name": "stdout",
     "output_type": "stream",
     "text": [
      "{'_id': 'null', 'max_redemption_handgun': 9486, 'max_redemption_longgun': 5047, 'max_redemption_other': 104}\n",
      "Time elapsed is 5.371674537658691\n"
     ]
    }
   ],
   "source": [
    "# Setting up timer\n",
    "t21 = time.time()\n",
    "\n",
    "agg_result2 = firearms_info.aggregate([\n",
    "\n",
    "    {\n",
    "        \"$group\" :{\n",
    "            \"_id\":'null',\n",
    "            \"max_redemption_handgun\":{\n",
    "                \"$max\":\"$redemption_handgun\"\n",
    "            },\n",
    "            \"max_redemption_longgun\":{\n",
    "                \"$max\":\"$redemption_long_gun\"\n",
    "            },\n",
    "            \"max_redemption_other\":{\n",
    "                \"$max\":\"$redemption_other\"\n",
    "            }\n",
    "            \n",
    "        }   \n",
    "    }   \n",
    "    ])\n",
    "\n",
    "for record in agg_result2:\n",
    "    print(record)\n",
    "\n",
    "# closing timer\n",
    "t12 = time.time()\n",
    "print(\"Time elapsed is\",t12-t11)"
   ]
  },
  {
   "cell_type": "markdown",
   "id": "85219b4f",
   "metadata": {},
   "source": [
    "**Third query: ‘Out of total which category of Background checks have majority total of requests in July 2022 which category and state’**"
   ]
  },
  {
   "cell_type": "code",
   "execution_count": 7,
   "id": "07837b01",
   "metadata": {},
   "outputs": [
    {
     "name": "stdout",
     "output_type": "stream",
     "text": [
      "{'_id': 'null', 'sum_permit': 647869, 'sum_permit_recheck': 477166, 'sum_handgun': 688408, 'sum_long_gun': 380096, 'sum_other': 60442, 'sum_multiple': 23967, 'sum_admin': 438, 'TotalPrepawn': 370, 'TotalRedemption': 50764, 'TotalReturned': 10266, 'TotalRental': 5, 'TotalPrivateSale': 18187, 'TotalReturnToSeller': 172}\n",
      "Time elapsed is 27.262148141860962\n"
     ]
    }
   ],
   "source": [
    "# Setting up timer\n",
    "t31 = time.time()\n",
    "\n",
    "\n",
    "agg_result3 = firearms_info.aggregate([\n",
    "    {\"$match\": {'month':'2022-07'}},\n",
    "    {\n",
    "        \"$group\" :{\n",
    "            \"_id\":'null',\n",
    "            \"sum_permit\":{\n",
    "                \"$sum\":\"$permit\"\n",
    "            },\n",
    "            \"sum_permit_recheck\":{\n",
    "                \"$sum\":\"$permit_recheck\"\n",
    "            },\n",
    "            \"sum_handgun\":{\n",
    "                \"$sum\":\"$handgun\"\n",
    "            },\n",
    "            \"sum_long_gun\":{\n",
    "                \"$sum\":\"$long_gun\"\n",
    "            },\n",
    "            \"sum_other\":{\n",
    "                \"$sum\":\"$other\"\n",
    "            },\n",
    "            \"sum_multiple\":{\n",
    "                \"$sum\":\"$multiple\"\n",
    "            },\n",
    "            \"sum_admin\":{\n",
    "                \"$sum\":\"$admin\"\n",
    "            },\n",
    "            \n",
    "            \"TotalPrepawn\":{\n",
    "                \"$sum\":{ \"$add\": [\"$prepawn_handgun\",\"$prepawn_long_gun\",\"$prepawn_other\"]}\n",
    "            },\n",
    "            \"TotalRedemption\":{\n",
    "                \"$sum\":{ \"$add\": [\"$redemption_handgun\",\"$redemption_long_gun\",\"$redemption_other\"]}\n",
    "            },\n",
    "            \"TotalReturned\":{\n",
    "                \"$sum\":{ \"$add\": [\"$returned_handgun\",\"$returned_long_gun\",\"$returned_other\"]}\n",
    "            },\n",
    "            \"TotalRental\":{\n",
    "                \"$sum\":{ \"$add\": [\"$rentals_handgun\",\"$rentals_long_gun\"]}\n",
    "            },\n",
    "            \"TotalPrivateSale\":{\n",
    "                \"$sum\":{ \"$add\": [\"$private_sale_handgun\",\"$private_sale_long_gun\",\"$private_sale_other\"]}\n",
    "            },\n",
    "            \"TotalReturnToSeller\":{\n",
    "                \"$sum\":{ \"$add\": [\"$return_to_seller_handgun\",\"$return_to_seller_long_gun\",\"$return_to_seller_other\"]}\n",
    "            }\n",
    "        }   \n",
    "    }   \n",
    "    ])\n",
    "\n",
    "\n",
    "for record in agg_result3:\n",
    "    print(record)\n",
    "\n",
    "# closing timer\n",
    "t12 = time.time()\n",
    "print(\"Time elapsed is\",t12-t11)"
   ]
  }
 ],
 "metadata": {
  "kernelspec": {
   "display_name": "Python 3 (ipykernel)",
   "language": "python",
   "name": "python3"
  },
  "language_info": {
   "codemirror_mode": {
    "name": "ipython",
    "version": 3
   },
   "file_extension": ".py",
   "mimetype": "text/x-python",
   "name": "python",
   "nbconvert_exporter": "python",
   "pygments_lexer": "ipython3",
   "version": "3.9.12"
  }
 },
 "nbformat": 4,
 "nbformat_minor": 5
}
